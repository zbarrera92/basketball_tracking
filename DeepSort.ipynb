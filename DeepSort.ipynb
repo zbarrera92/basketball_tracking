{
 "cells": [
  {
   "cell_type": "markdown",
   "metadata": {},
   "source": [
    "# Main File To Run Detections"
   ]
  },
  {
   "cell_type": "code",
   "execution_count": null,
   "metadata": {
    "colab": {
     "base_uri": "https://localhost:8080/"
    },
    "id": "kNx5oPBaHhl8",
    "outputId": "f1b3ee3e-17a1-4e0f-8977-7c6fc7acf58a"
   },
   "outputs": [
    {
     "name": "stdout",
     "output_type": "stream",
     "text": [
      "Tue Dec  8 14:49:24 2020       \n",
      "+-----------------------------------------------------------------------------+\n",
      "| NVIDIA-SMI 455.45.01    Driver Version: 418.67       CUDA Version: 10.1     |\n",
      "|-------------------------------+----------------------+----------------------+\n",
      "| GPU  Name        Persistence-M| Bus-Id        Disp.A | Volatile Uncorr. ECC |\n",
      "| Fan  Temp  Perf  Pwr:Usage/Cap|         Memory-Usage | GPU-Util  Compute M. |\n",
      "|                               |                      |               MIG M. |\n",
      "|===============================+======================+======================|\n",
      "|   0  Tesla V100-SXM2...  Off  | 00000000:00:04.0 Off |                    0 |\n",
      "| N/A   33C    P0    24W / 300W |      0MiB / 16130MiB |      0%      Default |\n",
      "|                               |                      |                 ERR! |\n",
      "+-------------------------------+----------------------+----------------------+\n",
      "                                                                               \n",
      "+-----------------------------------------------------------------------------+\n",
      "| Processes:                                                                  |\n",
      "|  GPU   GI   CI        PID   Type   Process name                  GPU Memory |\n",
      "|        ID   ID                                                   Usage      |\n",
      "|=============================================================================|\n",
      "|  No running processes found                                                 |\n",
      "+-----------------------------------------------------------------------------+\n"
     ]
    }
   ],
   "source": [
    "# on Colab make sure GPU is set up\n",
    "gpu_info = !nvidia-smi\n",
    "gpu_info = '\\n'.join(gpu_info)\n",
    "if gpu_info.find('failed') >= 0:\n",
    "    print('Select the Runtime > \"Change runtime type\" menu to enable a GPU accelerator, ')\n",
    "    print('and then re-execute this cell.')\n",
    "else:\n",
    "    print(gpu_info)"
   ]
  },
  {
   "cell_type": "code",
   "execution_count": null,
   "metadata": {
    "colab": {
     "base_uri": "https://localhost:8080/"
    },
    "id": "4KsEo2Z5Ig3K",
    "outputId": "62126f2d-09e7-4060-ccaf-dea73b1b8fc2"
   },
   "outputs": [
    {
     "name": "stdout",
     "output_type": "stream",
     "text": [
      "Mounted at /content/gdrive\n"
     ]
    }
   ],
   "source": [
    "# hook up your google drive\n",
    "from google.colab import drive\n",
    "drive.mount('/content/gdrive', force_remount=True)"
   ]
  },
  {
   "cell_type": "code",
   "execution_count": null,
   "metadata": {
    "colab": {
     "base_uri": "https://localhost:8080/"
    },
    "id": "cCogGllJIt1y",
    "outputId": "4b2c8435-a7d5-4558-ecc8-9a44c64ea171"
   },
   "outputs": [
    {
     "name": "stdout",
     "output_type": "stream",
     "text": [
      "ln: failed to create symbolic link '/mydrive/My Drive': File exists\n"
     ]
    }
   ],
   "source": [
    "# set up an alias to access your drive\n",
    "!ln -s /content/gdrive/My\\ Drive/ /mydrive"
   ]
  },
  {
   "cell_type": "code",
   "execution_count": null,
   "metadata": {
    "colab": {
     "base_uri": "https://localhost:8080/"
    },
    "id": "bs-ip-24HdfQ",
    "outputId": "7b990c6e-95c6-404b-d22f-a5ba7bd205cf"
   },
   "outputs": [
    {
     "name": "stdout",
     "output_type": "stream",
     "text": [
      "/content/gdrive/My Drive/TensorFlow-2.x-YOLOv3\n"
     ]
    }
   ],
   "source": [
    "# enter this repo on the remote machine\n",
    "cd /mydrive/nba-automation"
   ]
  },
  {
   "cell_type": "code",
   "execution_count": null,
   "metadata": {
    "id": "EYy2wosI-ZG5"
   },
   "outputs": [],
   "source": []
  },
  {
   "cell_type": "code",
   "execution_count": null,
   "metadata": {
    "id": "VxIXc-_zIbxW"
   },
   "outputs": [],
   "source": [
    "import cv2\n",
    "import numpy as np\n",
    "import tensorflow as tf\n",
    "from yolov3.utils import Load_Yolo_model, Load_Custom_Yolo_model, image_preprocess, postprocess_boxes, nms, draw_bbox, read_class_names, detect_video\n",
    "from yolov3.configs import *\n",
    "from yolov3.yolov3 import Create_Yolov3\n",
    "import time\n",
    "\n",
    "from object_tracker import Object_tracking\n",
    "from slice_video import create_time_stamp_windows, video_slicer\n",
    "\n",
    "from deep_sort import nn_matching\n",
    "from deep_sort.detection import Detection\n",
    "from deep_sort.tracker import Tracker\n",
    "from deep_sort import generate_detections as gdet"
   ]
  },
  {
   "cell_type": "code",
   "execution_count": null,
   "metadata": {
    "colab": {
     "base_uri": "https://localhost:8080/"
    },
    "id": "VcCLWU8hpeAQ",
    "outputId": "263b2887-157b-4d08-c147-1e2daf738fc9"
   },
   "outputs": [
    {
     "name": "stdout",
     "output_type": "stream",
     "text": [
      "GPUs [PhysicalDevice(name='/physical_device:GPU:0', device_type='GPU')]\n"
     ]
    }
   ],
   "source": [
    "# load in the custom basketball model\n",
    "yolo_custom = Load_Custom_Yolo_model()"
   ]
  },
  {
   "cell_type": "code",
   "execution_count": null,
   "metadata": {
    "colab": {
     "base_uri": "https://localhost:8080/"
    },
    "id": "237N4ayS9i8e",
    "outputId": "9e119378-07a5-48fd-c459-5a3463679c9b"
   },
   "outputs": [
    {
     "name": "stdout",
     "output_type": "stream",
     "text": [
      "GPUs [PhysicalDevice(name='/physical_device:GPU:0', device_type='GPU')]\n"
     ]
    }
   ],
   "source": [
    "# load in the darknet model so we can detect people\n",
    "yolo = Load_Yolo_model()"
   ]
  },
  {
   "cell_type": "code",
   "execution_count": null,
   "metadata": {
    "id": "-hwtz9kpiHby"
   },
   "outputs": [],
   "source": [
    "# set up video path to grab and save to\n",
    "video_path = \"/mydrive/basketball-videos/made-basket-tracker/player-tracker.mp4\"\n",
    "save_path = \"/mydrive/basketball-videos/made-basket-tracker/player-tracker-tracked.mp4\"\n"
   ]
  },
  {
   "cell_type": "code",
   "execution_count": null,
   "metadata": {
    "colab": {
     "base_uri": "https://localhost:8080/"
    },
    "id": "C1Mzj5Gs9nKp",
    "outputId": "6e453301-68f0-46f3-b29d-e80d83396b3e"
   },
   "outputs": [
    {
     "name": "stdout",
     "output_type": "stream",
     "text": [
      "Time: 7119.30ms, Detection FPS: 0.1, total FPS: 0.1\n",
      "Time: 3613.37ms, Detection FPS: 0.3, total FPS: 0.3\n",
      "Time: 2446.07ms, Detection FPS: 0.4, total FPS: 0.4\n",
      "Time: 1862.12ms, Detection FPS: 0.5, total FPS: 0.5\n",
      "Time: 1511.51ms, Detection FPS: 0.7, total FPS: 0.6\n",
      "Time: 1277.79ms, Detection FPS: 0.8, total FPS: 0.7\n",
      "Time: 1112.20ms, Detection FPS: 0.9, total FPS: 0.8\n",
      "Time: 987.04ms, Detection FPS: 1.0, total FPS: 0.9\n",
      "Time: 892.29ms, Detection FPS: 1.1, total FPS: 1.0\n",
      "Time: 814.00ms, Detection FPS: 1.2, total FPS: 1.1\n",
      "Time: 750.41ms, Detection FPS: 1.3, total FPS: 1.2\n",
      "Time: 697.58ms, Detection FPS: 1.4, total FPS: 1.3\n",
      "Time: 653.21ms, Detection FPS: 1.5, total FPS: 1.4\n",
      "Time: 614.67ms, Detection FPS: 1.6, total FPS: 1.5\n",
      "Time: 581.88ms, Detection FPS: 1.7, total FPS: 1.6\n",
      "Time: 552.41ms, Detection FPS: 1.8, total FPS: 1.6\n",
      "Time: 526.83ms, Detection FPS: 1.9, total FPS: 1.7\n",
      "Time: 504.05ms, Detection FPS: 2.0, total FPS: 1.8\n",
      "Time: 483.52ms, Detection FPS: 2.1, total FPS: 1.9\n",
      "Time: 465.26ms, Detection FPS: 2.1, total FPS: 1.9\n",
      "Time: 114.75ms, Detection FPS: 8.7, total FPS: 6.4\n",
      "Time: 115.32ms, Detection FPS: 8.7, total FPS: 6.4\n",
      "Time: 115.53ms, Detection FPS: 8.7, total FPS: 6.4\n",
      "Time: 115.44ms, Detection FPS: 8.7, total FPS: 6.5\n",
      "Time: 115.61ms, Detection FPS: 8.6, total FPS: 6.5\n",
      "Time: 116.00ms, Detection FPS: 8.6, total FPS: 6.5\n",
      "Time: 115.92ms, Detection FPS: 8.6, total FPS: 6.5\n",
      "Time: 116.49ms, Detection FPS: 8.6, total FPS: 6.4\n",
      "Time: 115.62ms, Detection FPS: 8.6, total FPS: 6.5\n",
      "Time: 115.70ms, Detection FPS: 8.6, total FPS: 6.5\n",
      "Time: 116.08ms, Detection FPS: 8.6, total FPS: 6.4\n",
      "Time: 116.08ms, Detection FPS: 8.6, total FPS: 6.4\n",
      "Time: 115.83ms, Detection FPS: 8.6, total FPS: 6.4\n",
      "Time: 115.85ms, Detection FPS: 8.6, total FPS: 6.4\n",
      "Time: 115.28ms, Detection FPS: 8.7, total FPS: 6.4\n",
      "Time: 115.65ms, Detection FPS: 8.6, total FPS: 6.4\n",
      "Time: 116.02ms, Detection FPS: 8.6, total FPS: 6.3\n",
      "Time: 115.67ms, Detection FPS: 8.6, total FPS: 6.3\n",
      "Time: 115.62ms, Detection FPS: 8.6, total FPS: 6.3\n",
      "Time: 115.51ms, Detection FPS: 8.7, total FPS: 6.3\n",
      "Time: 115.59ms, Detection FPS: 8.7, total FPS: 6.3\n",
      "Time: 115.28ms, Detection FPS: 8.7, total FPS: 6.3\n",
      "Time: 115.06ms, Detection FPS: 8.7, total FPS: 6.3\n",
      "Time: 115.49ms, Detection FPS: 8.7, total FPS: 6.2\n",
      "Time: 115.75ms, Detection FPS: 8.6, total FPS: 6.2\n",
      "Time: 115.43ms, Detection FPS: 8.7, total FPS: 6.2\n",
      "Time: 115.73ms, Detection FPS: 8.6, total FPS: 6.2\n",
      "Time: 115.36ms, Detection FPS: 8.7, total FPS: 6.3\n",
      "Time: 115.60ms, Detection FPS: 8.7, total FPS: 6.3\n",
      "Time: 115.45ms, Detection FPS: 8.7, total FPS: 6.3\n",
      "Time: 115.17ms, Detection FPS: 8.7, total FPS: 6.3\n",
      "Time: 115.08ms, Detection FPS: 8.7, total FPS: 6.4\n",
      "Time: 115.36ms, Detection FPS: 8.7, total FPS: 6.4\n",
      "Time: 115.81ms, Detection FPS: 8.6, total FPS: 6.4\n",
      "Time: 116.01ms, Detection FPS: 8.6, total FPS: 6.5\n",
      "Time: 115.53ms, Detection FPS: 8.7, total FPS: 6.5\n",
      "Time: 114.96ms, Detection FPS: 8.7, total FPS: 6.6\n",
      "Time: 115.17ms, Detection FPS: 8.7, total FPS: 6.6\n",
      "Time: 115.46ms, Detection FPS: 8.7, total FPS: 6.7\n",
      "Time: 115.23ms, Detection FPS: 8.7, total FPS: 6.7\n",
      "Time: 115.51ms, Detection FPS: 8.7, total FPS: 6.7\n",
      "Time: 115.29ms, Detection FPS: 8.7, total FPS: 6.8\n",
      "Time: 123.99ms, Detection FPS: 8.1, total FPS: 6.4\n",
      "Time: 123.53ms, Detection FPS: 8.1, total FPS: 6.5\n",
      "Time: 123.85ms, Detection FPS: 8.1, total FPS: 6.5\n",
      "Time: 123.71ms, Detection FPS: 8.1, total FPS: 6.5\n",
      "Time: 123.52ms, Detection FPS: 8.1, total FPS: 6.5\n",
      "Time: 123.42ms, Detection FPS: 8.1, total FPS: 6.5\n",
      "Time: 123.22ms, Detection FPS: 8.1, total FPS: 6.5\n",
      "Time: 123.43ms, Detection FPS: 8.1, total FPS: 6.5\n",
      "Time: 123.35ms, Detection FPS: 8.1, total FPS: 6.5\n",
      "Time: 123.40ms, Detection FPS: 8.1, total FPS: 6.5\n",
      "Time: 123.15ms, Detection FPS: 8.1, total FPS: 6.5\n",
      "Time: 122.79ms, Detection FPS: 8.1, total FPS: 6.5\n",
      "Time: 122.81ms, Detection FPS: 8.1, total FPS: 6.4\n",
      "Time: 123.22ms, Detection FPS: 8.1, total FPS: 6.4\n",
      "Time: 123.87ms, Detection FPS: 8.1, total FPS: 6.4\n",
      "Time: 123.75ms, Detection FPS: 8.1, total FPS: 6.3\n",
      "Time: 123.50ms, Detection FPS: 8.1, total FPS: 6.3\n",
      "Time: 123.61ms, Detection FPS: 8.1, total FPS: 6.3\n",
      "Time: 124.79ms, Detection FPS: 8.0, total FPS: 6.3\n",
      "Time: 125.16ms, Detection FPS: 8.0, total FPS: 6.2\n",
      "Time: 116.93ms, Detection FPS: 8.6, total FPS: 6.6\n",
      "Time: 117.07ms, Detection FPS: 8.5, total FPS: 6.6\n",
      "Time: 117.17ms, Detection FPS: 8.5, total FPS: 6.6\n",
      "Time: 117.64ms, Detection FPS: 8.5, total FPS: 6.6\n",
      "Time: 117.35ms, Detection FPS: 8.5, total FPS: 6.6\n",
      "Time: 117.21ms, Detection FPS: 8.5, total FPS: 6.6\n",
      "Time: 117.37ms, Detection FPS: 8.5, total FPS: 6.6\n",
      "Time: 117.76ms, Detection FPS: 8.5, total FPS: 6.5\n",
      "Time: 118.16ms, Detection FPS: 8.5, total FPS: 6.5\n",
      "Time: 117.97ms, Detection FPS: 8.5, total FPS: 6.5\n",
      "Time: 117.98ms, Detection FPS: 8.5, total FPS: 6.5\n",
      "Time: 117.64ms, Detection FPS: 8.5, total FPS: 6.5\n",
      "Time: 118.24ms, Detection FPS: 8.5, total FPS: 6.5\n",
      "Time: 117.91ms, Detection FPS: 8.5, total FPS: 6.5\n",
      "Time: 117.36ms, Detection FPS: 8.5, total FPS: 6.6\n",
      "Time: 117.80ms, Detection FPS: 8.5, total FPS: 6.6\n",
      "Time: 118.60ms, Detection FPS: 8.4, total FPS: 6.5\n",
      "Time: 118.41ms, Detection FPS: 8.4, total FPS: 6.5\n",
      "Time: 117.35ms, Detection FPS: 8.5, total FPS: 6.6\n",
      "Time: 116.95ms, Detection FPS: 8.6, total FPS: 6.6\n",
      "Time: 116.99ms, Detection FPS: 8.5, total FPS: 6.6\n",
      "Time: 117.21ms, Detection FPS: 8.5, total FPS: 6.6\n",
      "Time: 116.86ms, Detection FPS: 8.6, total FPS: 6.6\n",
      "Time: 118.12ms, Detection FPS: 8.5, total FPS: 6.5\n",
      "Time: 119.44ms, Detection FPS: 8.4, total FPS: 6.5\n",
      "Time: 121.01ms, Detection FPS: 8.3, total FPS: 6.4\n",
      "Time: 121.42ms, Detection FPS: 8.2, total FPS: 6.4\n",
      "Time: 121.84ms, Detection FPS: 8.2, total FPS: 6.4\n",
      "Time: 122.69ms, Detection FPS: 8.2, total FPS: 6.3\n",
      "Time: 123.86ms, Detection FPS: 8.1, total FPS: 6.3\n",
      "Time: 124.03ms, Detection FPS: 8.1, total FPS: 6.3\n",
      "Time: 123.98ms, Detection FPS: 8.1, total FPS: 6.3\n",
      "Time: 124.41ms, Detection FPS: 8.0, total FPS: 6.3\n",
      "Time: 125.44ms, Detection FPS: 8.0, total FPS: 6.2\n",
      "Time: 126.16ms, Detection FPS: 7.9, total FPS: 6.2\n",
      "Time: 126.77ms, Detection FPS: 7.9, total FPS: 6.2\n",
      "Time: 126.66ms, Detection FPS: 7.9, total FPS: 6.1\n",
      "Time: 126.78ms, Detection FPS: 7.9, total FPS: 6.1\n",
      "Time: 126.75ms, Detection FPS: 7.9, total FPS: 6.1\n",
      "Time: 127.47ms, Detection FPS: 7.8, total FPS: 6.1\n",
      "Time: 126.94ms, Detection FPS: 7.9, total FPS: 6.0\n",
      "Time: 127.75ms, Detection FPS: 7.8, total FPS: 6.0\n",
      "Time: 127.89ms, Detection FPS: 7.8, total FPS: 5.9\n",
      "Time: 126.74ms, Detection FPS: 7.9, total FPS: 6.0\n",
      "Time: 125.59ms, Detection FPS: 8.0, total FPS: 6.0\n",
      "Time: 124.08ms, Detection FPS: 8.1, total FPS: 6.1\n",
      "Time: 123.10ms, Detection FPS: 8.1, total FPS: 6.1\n",
      "Time: 122.29ms, Detection FPS: 8.2, total FPS: 6.1\n",
      "Time: 121.31ms, Detection FPS: 8.2, total FPS: 6.1\n",
      "Time: 120.10ms, Detection FPS: 8.3, total FPS: 6.1\n",
      "Time: 119.93ms, Detection FPS: 8.3, total FPS: 6.1\n",
      "Time: 120.37ms, Detection FPS: 8.3, total FPS: 6.1\n",
      "Time: 119.43ms, Detection FPS: 8.4, total FPS: 6.1\n",
      "Time: 119.45ms, Detection FPS: 8.4, total FPS: 6.1\n",
      "Time: 118.61ms, Detection FPS: 8.4, total FPS: 6.1\n",
      "Time: 117.84ms, Detection FPS: 8.5, total FPS: 6.1\n",
      "Time: 116.92ms, Detection FPS: 8.6, total FPS: 6.2\n",
      "Time: 117.54ms, Detection FPS: 8.5, total FPS: 6.2\n",
      "Time: 118.48ms, Detection FPS: 8.4, total FPS: 6.1\n",
      "Time: 117.92ms, Detection FPS: 8.5, total FPS: 6.2\n",
      "Time: 118.66ms, Detection FPS: 8.4, total FPS: 6.2\n",
      "Time: 118.31ms, Detection FPS: 8.5, total FPS: 6.2\n",
      "Time: 117.90ms, Detection FPS: 8.5, total FPS: 6.2\n",
      "Time: 118.68ms, Detection FPS: 8.4, total FPS: 6.2\n",
      "Time: 118.66ms, Detection FPS: 8.4, total FPS: 6.2\n",
      "Time: 119.76ms, Detection FPS: 8.4, total FPS: 6.2\n",
      "Time: 120.47ms, Detection FPS: 8.3, total FPS: 6.2\n",
      "Time: 120.56ms, Detection FPS: 8.3, total FPS: 6.2\n",
      "Time: 121.25ms, Detection FPS: 8.2, total FPS: 6.2\n",
      "Time: 122.25ms, Detection FPS: 8.2, total FPS: 6.1\n",
      "Time: 122.50ms, Detection FPS: 8.2, total FPS: 6.1\n",
      "Time: 122.55ms, Detection FPS: 8.2, total FPS: 6.1\n",
      "Time: 122.12ms, Detection FPS: 8.2, total FPS: 6.2\n",
      "Time: 121.53ms, Detection FPS: 8.2, total FPS: 6.2\n",
      "Time: 121.29ms, Detection FPS: 8.2, total FPS: 6.2\n",
      "Time: 121.53ms, Detection FPS: 8.2, total FPS: 6.2\n",
      "Time: 122.70ms, Detection FPS: 8.1, total FPS: 6.2\n",
      "Time: 122.43ms, Detection FPS: 8.2, total FPS: 6.2\n",
      "Time: 121.41ms, Detection FPS: 8.2, total FPS: 6.2\n",
      "Time: 122.67ms, Detection FPS: 8.2, total FPS: 6.2\n",
      "Time: 122.15ms, Detection FPS: 8.2, total FPS: 6.2\n",
      "Time: 122.64ms, Detection FPS: 8.2, total FPS: 6.1\n",
      "Time: 123.84ms, Detection FPS: 8.1, total FPS: 6.1\n",
      "Time: 123.47ms, Detection FPS: 8.1, total FPS: 6.1\n",
      "Time: 123.41ms, Detection FPS: 8.1, total FPS: 6.1\n",
      "Time: 122.94ms, Detection FPS: 8.1, total FPS: 6.1\n",
      "Time: 123.43ms, Detection FPS: 8.1, total FPS: 6.1\n",
      "Time: 123.18ms, Detection FPS: 8.1, total FPS: 6.1\n",
      "Time: 123.79ms, Detection FPS: 8.1, total FPS: 6.1\n",
      "Time: 122.77ms, Detection FPS: 8.1, total FPS: 6.1\n",
      "Time: 122.40ms, Detection FPS: 8.2, total FPS: 6.1\n",
      "Time: 121.84ms, Detection FPS: 8.2, total FPS: 6.2\n",
      "Time: 122.99ms, Detection FPS: 8.1, total FPS: 6.2\n",
      "Time: 123.16ms, Detection FPS: 8.1, total FPS: 6.2\n",
      "Time: 123.82ms, Detection FPS: 8.1, total FPS: 6.1\n",
      "Time: 123.29ms, Detection FPS: 8.1, total FPS: 6.1\n",
      "Time: 123.61ms, Detection FPS: 8.1, total FPS: 6.1\n",
      "Time: 123.65ms, Detection FPS: 8.1, total FPS: 6.1\n",
      "Time: 123.55ms, Detection FPS: 8.1, total FPS: 6.2\n",
      "Time: 122.55ms, Detection FPS: 8.2, total FPS: 6.2\n",
      "Time: 122.79ms, Detection FPS: 8.1, total FPS: 6.2\n",
      "Time: 122.71ms, Detection FPS: 8.1, total FPS: 6.2\n",
      "Time: 121.99ms, Detection FPS: 8.2, total FPS: 6.3\n",
      "Time: 122.21ms, Detection FPS: 8.2, total FPS: 6.3\n",
      "Time: 122.11ms, Detection FPS: 8.2, total FPS: 6.3\n",
      "Time: 121.40ms, Detection FPS: 8.2, total FPS: 6.4\n",
      "Time: 121.95ms, Detection FPS: 8.2, total FPS: 6.4\n",
      "Time: 123.03ms, Detection FPS: 8.1, total FPS: 6.3\n",
      "Time: 121.28ms, Detection FPS: 8.2, total FPS: 6.4\n",
      "Time: 121.68ms, Detection FPS: 8.2, total FPS: 6.4\n",
      "Time: 122.69ms, Detection FPS: 8.2, total FPS: 6.4\n",
      "Time: 124.03ms, Detection FPS: 8.1, total FPS: 6.4\n",
      "Time: 123.12ms, Detection FPS: 8.1, total FPS: 6.4\n",
      "Time: 123.55ms, Detection FPS: 8.1, total FPS: 6.4\n",
      "Time: 122.87ms, Detection FPS: 8.1, total FPS: 6.4\n",
      "Time: 123.37ms, Detection FPS: 8.1, total FPS: 6.4\n",
      "Time: 122.30ms, Detection FPS: 8.2, total FPS: 6.4\n",
      "Time: 122.06ms, Detection FPS: 8.2, total FPS: 6.4\n",
      "Time: 122.90ms, Detection FPS: 8.1, total FPS: 6.4\n",
      "Time: 122.59ms, Detection FPS: 8.2, total FPS: 6.4\n",
      "Time: 122.48ms, Detection FPS: 8.2, total FPS: 6.4\n",
      "Time: 122.05ms, Detection FPS: 8.2, total FPS: 6.4\n",
      "Time: 121.76ms, Detection FPS: 8.2, total FPS: 6.4\n",
      "Time: 120.86ms, Detection FPS: 8.3, total FPS: 6.4\n",
      "Time: 121.05ms, Detection FPS: 8.3, total FPS: 6.4\n",
      "Time: 121.61ms, Detection FPS: 8.2, total FPS: 6.4\n",
      "Time: 121.27ms, Detection FPS: 8.2, total FPS: 6.4\n",
      "Time: 121.21ms, Detection FPS: 8.2, total FPS: 6.4\n",
      "Time: 121.39ms, Detection FPS: 8.2, total FPS: 6.4\n",
      "Time: 121.49ms, Detection FPS: 8.2, total FPS: 6.4\n",
      "Time: 120.82ms, Detection FPS: 8.3, total FPS: 6.4\n",
      "Time: 119.86ms, Detection FPS: 8.3, total FPS: 6.5\n",
      "Time: 120.18ms, Detection FPS: 8.3, total FPS: 6.5\n",
      "Time: 119.41ms, Detection FPS: 8.4, total FPS: 6.5\n",
      "Time: 119.76ms, Detection FPS: 8.4, total FPS: 6.5\n",
      "Time: 120.54ms, Detection FPS: 8.3, total FPS: 6.4\n",
      "Time: 120.43ms, Detection FPS: 8.3, total FPS: 6.4\n",
      "Time: 120.34ms, Detection FPS: 8.3, total FPS: 6.5\n",
      "Time: 120.05ms, Detection FPS: 8.3, total FPS: 6.5\n",
      "Time: 121.25ms, Detection FPS: 8.2, total FPS: 6.4\n",
      "Time: 121.91ms, Detection FPS: 8.2, total FPS: 6.4\n",
      "Time: 122.26ms, Detection FPS: 8.2, total FPS: 6.4\n",
      "Time: 123.48ms, Detection FPS: 8.1, total FPS: 6.4\n",
      "Time: 124.72ms, Detection FPS: 8.0, total FPS: 6.3\n",
      "Time: 124.69ms, Detection FPS: 8.0, total FPS: 6.3\n",
      "Time: 124.68ms, Detection FPS: 8.0, total FPS: 6.3\n",
      "Time: 124.42ms, Detection FPS: 8.0, total FPS: 6.3\n",
      "Time: 123.63ms, Detection FPS: 8.1, total FPS: 6.4\n",
      "Time: 123.38ms, Detection FPS: 8.1, total FPS: 6.4\n",
      "Time: 124.23ms, Detection FPS: 8.0, total FPS: 6.3\n",
      "Time: 123.93ms, Detection FPS: 8.1, total FPS: 6.4\n",
      "Time: 124.34ms, Detection FPS: 8.0, total FPS: 6.3\n",
      "Time: 123.88ms, Detection FPS: 8.1, total FPS: 6.4\n",
      "Time: 125.03ms, Detection FPS: 8.0, total FPS: 6.3\n",
      "Time: 126.59ms, Detection FPS: 7.9, total FPS: 6.2\n",
      "Time: 126.27ms, Detection FPS: 7.9, total FPS: 6.3\n",
      "Time: 126.55ms, Detection FPS: 7.9, total FPS: 6.2\n",
      "Time: 126.43ms, Detection FPS: 7.9, total FPS: 6.2\n",
      "Time: 127.04ms, Detection FPS: 7.9, total FPS: 6.2\n",
      "Time: 125.82ms, Detection FPS: 7.9, total FPS: 6.3\n",
      "Time: 126.37ms, Detection FPS: 7.9, total FPS: 6.2\n",
      "Time: 125.30ms, Detection FPS: 8.0, total FPS: 6.3\n",
      "Time: 123.87ms, Detection FPS: 8.1, total FPS: 6.3\n",
      "Time: 122.68ms, Detection FPS: 8.2, total FPS: 6.4\n",
      "Time: 123.78ms, Detection FPS: 8.1, total FPS: 6.3\n",
      "Time: 123.57ms, Detection FPS: 8.1, total FPS: 6.3\n",
      "Time: 122.53ms, Detection FPS: 8.2, total FPS: 6.3\n",
      "Time: 123.52ms, Detection FPS: 8.1, total FPS: 6.2\n",
      "Time: 123.46ms, Detection FPS: 8.1, total FPS: 6.2\n",
      "Time: 123.98ms, Detection FPS: 8.1, total FPS: 6.2\n",
      "video saved to /mydrive/basketball-videos/made-basket-tracker/player-tracker-tracked.mp4\n"
     ]
    }
   ],
   "source": [
    "# Run the video info function\n",
    "video_info = Object_tracking(yolo, video_path, save_path, input_size=YOLO_INPUT_SIZE, show=False, \n",
    "                              iou_threshold=0.1, rectangle_colors=(255,0,0), Track_only = [\"person\"], custom_yolo=yolo_custom)"
   ]
  },
  {
   "cell_type": "code",
   "execution_count": null,
   "metadata": {
    "colab": {
     "base_uri": "https://localhost:8080/",
     "height": 164
    },
    "id": "YJXkCq0307mf",
    "outputId": "aa2a00bc-babf-4b2b-a688-e3532b982437"
   },
   "outputs": [
    {
     "ename": "AssertionError",
     "evalue": "ignored",
     "output_type": "error",
     "traceback": [
      "\u001b[0;31m---------------------------------------------------------------------------\u001b[0m",
      "\u001b[0;31mAssertionError\u001b[0m                            Traceback (most recent call last)",
      "\u001b[0;32m<ipython-input-13-a871fdc9ebee>\u001b[0m in \u001b[0;36m<module>\u001b[0;34m()\u001b[0m\n\u001b[0;32m----> 1\u001b[0;31m \u001b[0;32massert\u001b[0m \u001b[0;32mFalse\u001b[0m\u001b[0;34m\u001b[0m\u001b[0;34m\u001b[0m\u001b[0m\n\u001b[0m",
      "\u001b[0;31mAssertionError\u001b[0m: "
     ]
    }
   ],
   "source": [
    "# this is just a safety stop if we did run all\n",
    "assert False"
   ]
  },
  {
   "cell_type": "code",
   "execution_count": null,
   "metadata": {
    "id": "rkagaMmK4Vmj"
   },
   "outputs": [],
   "source": [
    "# Grab the dict that keeps te amount of baskets made by each team\n",
    "baskets_dict = video_info[\"baskets_dict\"]\n",
    "baskets_dict"
   ]
  },
  {
   "cell_type": "code",
   "execution_count": null,
   "metadata": {
    "id": "7N13LksPeaGK"
   },
   "outputs": [],
   "source": [
    "# Grab the list of frames where a basket was scored\n",
    "basket_frame_list = video_info[\"basket_frame_list\"]\n",
    "basket_frame_list"
   ]
  },
  {
   "cell_type": "code",
   "execution_count": null,
   "metadata": {
    "id": "2PZMPdrtegkg"
   },
   "outputs": [],
   "source": [
    "# use the previous frames to create \"frame windows\" to feed into our video clipper\n",
    "time_stamp_windows = create_time_stamp_windows(basket_frame_list, 5, 2, 30)\n",
    "time_stamp_windows"
   ]
  },
  {
   "cell_type": "code",
   "execution_count": null,
   "metadata": {
    "id": "zC0aSBS1e7fA"
   },
   "outputs": [],
   "source": [
    "video_path = \"/mydrive/basketball-videos/made-basket-tracker/game_3_clip_2_tracked_4.mp4\"\n",
    "save_path = \"/mydrive/basketball-videos/made-basket-tracker/game_3_clip_2_tracked_4_highlights.mp4\""
   ]
  },
  {
   "cell_type": "code",
   "execution_count": null,
   "metadata": {
    "id": "oLPp8flMewhD"
   },
   "outputs": [],
   "source": [
    "# slice up our video\n",
    "video_slicer(video_path, save_path, time_stamp_windows[\"start_frames\"], time_stamp_windows[\"end_frames\"])"
   ]
  },
  {
   "cell_type": "code",
   "execution_count": null,
   "metadata": {
    "id": "zQuMltOvmzl8"
   },
   "outputs": [],
   "source": []
  }
 ],
 "metadata": {
  "accelerator": "GPU",
  "colab": {
   "collapsed_sections": [],
   "name": "DeepSort.ipynb",
   "provenance": []
  },
  "kernelspec": {
   "display_name": "Python 3",
   "language": "python",
   "name": "python3"
  },
  "language_info": {
   "codemirror_mode": {
    "name": "ipython",
    "version": 3
   },
   "file_extension": ".py",
   "mimetype": "text/x-python",
   "name": "python",
   "nbconvert_exporter": "python",
   "pygments_lexer": "ipython3",
   "version": "3.8.5"
  }
 },
 "nbformat": 4,
 "nbformat_minor": 1
}
